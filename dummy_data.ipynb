{
 "cells": [
  {
   "cell_type": "code",
   "execution_count": 1,
   "metadata": {},
   "outputs": [],
   "source": [
    "from faker import Faker\n",
    "import random\n",
    "import csv\n",
    "fake = Faker('id_ID')"
   ]
  },
  {
   "cell_type": "code",
   "execution_count": 2,
   "metadata": {},
   "outputs": [],
   "source": [
    "table_kota = {}\n",
    "table_kota['kota_id'] = [3171,3172,3173,3174,3175,3573,3578,3471,3273,1371,1375,6471,6472,7371,5171]"
   ]
  },
  {
   "cell_type": "code",
   "execution_count": 3,
   "metadata": {},
   "outputs": [],
   "source": [
    "## Membuat dummy data untuk tabel penjual\n",
    "\n",
    "n_data = 50\n",
    "tabel_penjual = {}\n",
    "tabel_penjual['penjual_id'] = [i+1 for i in range(n_data)]\n",
    "tabel_penjual['kota_penjual_id'] = [random.choice(table_kota['kota_id']) for i in range(n_data)]\n",
    "tabel_penjual['nama_depan'] = [fake.first_name() for i in range(n_data)]\n",
    "tabel_penjual['nama_belakang'] = [fake.unique.last_name() for i in range(n_data)]\n",
    "tabel_penjual['detail_kontak'] = [fake.unique.phone_number() for i in range(n_data)]"
   ]
  },
  {
   "cell_type": "code",
   "execution_count": 4,
   "metadata": {},
   "outputs": [],
   "source": [
    "table_mobil = {}\n",
    "mobil_id = []\n",
    "penjual_mobil_id = []\n",
    "merk_mobil = []\n",
    "model = []\n",
    "jenis_body = []\n",
    "tipe_mobil = []\n",
    "tahun_pembuatan = []\n",
    "harga_jual = []\n",
    "with open('car_product - car_product.csv', 'r') as csv_file:\n",
    "    reader = csv.DictReader(csv_file)\n",
    "    data = list(reader)\n",
    "\n",
    "    for indeks in range(len(data)):\n",
    "        mobil_id.append(data[indeks]['mobil_id'])\n",
    "        penjual_mobil_id.append(random.choice(tabel_penjual['penjual_id']))\n",
    "        merk_mobil.append(data[indeks]['merk_mobil'])\n",
    "        model.append(data[indeks]['model'])\n",
    "        jenis_body.append(data[indeks]['jenis_body'])\n",
    "        tipe_mobil.append(fake.word(ext_word_list=['Manual', 'Automatic']))\n",
    "        tahun_pembuatan.append(data[indeks]['tahun_pembuatan'])\n",
    "        harga_jual.append(data[indeks]['harga_jual'])"
   ]
  },
  {
   "cell_type": "code",
   "execution_count": 5,
   "metadata": {},
   "outputs": [],
   "source": [
    "table_mobil['mobil_id'] = mobil_id\n",
    "table_mobil['penjual_mobil_id'] = penjual_mobil_id\n",
    "table_mobil['merk_mobil'] = merk_mobil\n",
    "table_mobil['model'] = model\n",
    "table_mobil['jenis_body'] = jenis_body\n",
    "table_mobil['tipe_mobil'] = tipe_mobil\n",
    "table_mobil['tahun_pembuatan'] = tahun_pembuatan\n",
    "table_mobil['harga_jual'] = harga_jual"
   ]
  },
  {
   "cell_type": "code",
   "execution_count": 6,
   "metadata": {},
   "outputs": [],
   "source": [
    "## Membuat dummy data untuk tabel penjual\n",
    "\n",
    "tabel_pembeli = {}\n",
    "tabel_pembeli['pembeli_id'] = [i+1 for i in range(n_data)]\n",
    "tabel_pembeli['kota_pembeli_id'] = [random.choice(table_kota['kota_id']) for i in range(n_data)]\n",
    "tabel_pembeli['nama_depan'] = [fake.first_name() for i in range(n_data)]\n",
    "tabel_pembeli['nama_belakang'] = [fake.unique.last_name() for i in range(n_data)]\n",
    "tabel_pembeli['detail_kontak'] = [fake.unique.phone_number() for i in range(n_data)]"
   ]
  },
  {
   "cell_type": "code",
   "execution_count": 7,
   "metadata": {},
   "outputs": [],
   "source": [
    "## Membuat dummy data untuk tabel iklan\n",
    "\n",
    "tabel_iklan = {}\n",
    "tabel_iklan['iklan_id'] = [i+1 for i in range(n_data)]\n",
    "tabel_iklan['mobil_iklan_id'] = [random.choice(table_mobil['mobil_id']) for i in range(n_data)]"
   ]
  },
  {
   "cell_type": "code",
   "execution_count": 8,
   "metadata": {},
   "outputs": [],
   "source": [
    "id_penjual = []\n",
    "for i in range(n_data):\n",
    "    for j in range(len(table_mobil['mobil_id'])):\n",
    "        if tabel_iklan['mobil_iklan_id'][i] == table_mobil['mobil_id'][j]:\n",
    "            id_penjual.append(table_mobil[\"penjual_mobil_id\"][j])"
   ]
  },
  {
   "cell_type": "code",
   "execution_count": 9,
   "metadata": {},
   "outputs": [],
   "source": [
    "tabel_iklan['penjual_iklan_id'] = id_penjual\n",
    "tabel_iklan['judul_iklan'] = [fake.sentence(nb_words=4, variable_nb_words=False) for i in range(n_data)]\n",
    "tabel_iklan['tanggal_posting'] = [fake.date_between(start_date='-2y', end_date='-1y') for i in range(n_data)]"
   ]
  },
  {
   "cell_type": "code",
   "execution_count": 10,
   "metadata": {},
   "outputs": [],
   "source": [
    "## Membuat dummy data untuk tabel bid\n",
    "\n",
    "tabel_bid = {}\n",
    "tabel_bid['bid_id'] = [i+1 for i in range(200)]\n",
    "tabel_bid['iklan_bid_id'] = [random.choice(tabel_iklan['iklan_id']) for i in range(200)]\n",
    "tabel_bid['pembeli_bid_id'] = [random.choice(tabel_pembeli['pembeli_id']) for i in range(200)]\n",
    "tabel_bid['tanggal_bid'] = [fake.date_between(start_date='-1y', end_date='today') for i in range(200)]\n",
    "tabel_bid['harga_bid'] = [fake.random_int(50_000_000, 430_000_000, 8_000_000) for i in range(200)]\n",
    "tabel_bid['status_bid'] = [fake.word(ext_word_list=['Sent', 'Declined']) for i in range(200)]"
   ]
  },
  {
   "cell_type": "code",
   "execution_count": 11,
   "metadata": {},
   "outputs": [],
   "source": [
    "def simpan_ke_csv(data_input, nama_file):\n",
    "    with open(file = f\"{nama_file}.csv\", mode= \"w\", newline= '') as csv_file:\n",
    "        writer = csv.writer(csv_file)\n",
    "        writer.writerow(list(data_input.keys()))\n",
    "        len_data = len(list(data_input.items())[0][1])\n",
    "\n",
    "        for num in range(len_data):\n",
    "            row  = []\n",
    "            for key in data_input.keys():\n",
    "                row.append(data_input[key][num])\n",
    "            writer.writerow(row)"
   ]
  },
  {
   "cell_type": "code",
   "execution_count": 12,
   "metadata": {},
   "outputs": [],
   "source": [
    "simpan_ke_csv(tabel_bid, 'data_tabel_bid')\n",
    "simpan_ke_csv(tabel_penjual, 'data_tabel_penjual')\n",
    "simpan_ke_csv(tabel_pembeli, 'data_tabel_pembeli')\n",
    "simpan_ke_csv(tabel_iklan, 'data_tabel_iklan')"
   ]
  },
  {
   "cell_type": "code",
   "execution_count": 13,
   "metadata": {},
   "outputs": [],
   "source": [
    "simpan_ke_csv(table_mobil, 'car_product - car_product')"
   ]
  }
 ],
 "metadata": {
  "kernelspec": {
   "display_name": "Python 3",
   "language": "python",
   "name": "python3"
  },
  "language_info": {
   "codemirror_mode": {
    "name": "ipython",
    "version": 3
   },
   "file_extension": ".py",
   "mimetype": "text/x-python",
   "name": "python",
   "nbconvert_exporter": "python",
   "pygments_lexer": "ipython3",
   "version": "3.10.7"
  },
  "orig_nbformat": 4
 },
 "nbformat": 4,
 "nbformat_minor": 2
}
